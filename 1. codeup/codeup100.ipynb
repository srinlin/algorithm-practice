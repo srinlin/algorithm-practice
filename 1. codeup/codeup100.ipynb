{
  "nbformat": 4,
  "nbformat_minor": 0,
  "metadata": {
    "colab": {
      "provenance": []
    },
    "kernelspec": {
      "name": "python3",
      "display_name": "Python 3"
    },
    "language_info": {
      "name": "python"
    }
  },
  "cells": [
    {
      "cell_type": "code",
      "execution_count": 1,
      "metadata": {
        "colab": {
          "base_uri": "https://localhost:8080/"
        },
        "id": "1H8JOJe6zTfU",
        "outputId": "49d6206b-1513-4716-e783-36d9cc103251"
      },
      "outputs": [
        {
          "output_type": "stream",
          "name": "stdout",
          "text": [
            "Hello\n"
          ]
        }
      ],
      "source": [
        "print(\"Hello\")"
      ]
    },
    {
      "cell_type": "code",
      "source": [
        "print(\"Hello World\")"
      ],
      "metadata": {
        "colab": {
          "base_uri": "https://localhost:8080/"
        },
        "id": "qFqj12pszl2f",
        "outputId": "5dd18343-ff0f-472f-ab32-114267b46d7a"
      },
      "execution_count": 2,
      "outputs": [
        {
          "output_type": "stream",
          "name": "stdout",
          "text": [
            "Hello World\n"
          ]
        }
      ]
    },
    {
      "cell_type": "code",
      "source": [
        "print(\"Hello\")\n",
        "print(\"World\")"
      ],
      "metadata": {
        "colab": {
          "base_uri": "https://localhost:8080/"
        },
        "id": "75umtTlp0E9g",
        "outputId": "2e8de212-93b3-47c4-c8a9-56dc4934fd1f"
      },
      "execution_count": 3,
      "outputs": [
        {
          "output_type": "stream",
          "name": "stdout",
          "text": [
            "Hello\n",
            "World\n"
          ]
        }
      ]
    },
    {
      "cell_type": "code",
      "source": [
        "print(\"'Hello'\")"
      ],
      "metadata": {
        "colab": {
          "base_uri": "https://localhost:8080/"
        },
        "id": "5k76TQP70Oo-",
        "outputId": "9acc54b9-5c66-42d6-a4b5-82b10ddc6d58"
      },
      "execution_count": 4,
      "outputs": [
        {
          "output_type": "stream",
          "name": "stdout",
          "text": [
            "'Hello'\n"
          ]
        }
      ]
    },
    {
      "cell_type": "code",
      "source": [
        "print('\"Hello World\"')"
      ],
      "metadata": {
        "colab": {
          "base_uri": "https://localhost:8080/"
        },
        "id": "5tdR3Skm0ZLR",
        "outputId": "1c2a297b-24e6-49e4-d07c-0d9299840e3d"
      },
      "execution_count": 5,
      "outputs": [
        {
          "output_type": "stream",
          "name": "stdout",
          "text": [
            "\"Hello World\"\n"
          ]
        }
      ]
    },
    {
      "cell_type": "code",
      "source": [
        "print(\"\\\"!@#$%^&*()\\'\") #출력 형식에 필요한 따옴표와 출력할 문자인 따옴표를 구분하기 위하여 \\\" 또는 \\' 를 이용하여 출력할 수 있다."
      ],
      "metadata": {
        "colab": {
          "base_uri": "https://localhost:8080/"
        },
        "id": "ZfpKxcGf0fyE",
        "outputId": "871727cd-6269-46f2-934c-028e4bea0394"
      },
      "execution_count": 6,
      "outputs": [
        {
          "output_type": "stream",
          "name": "stdout",
          "text": [
            "\"!@#$%^&*()'\n"
          ]
        }
      ]
    },
    {
      "cell_type": "code",
      "source": [
        "print(\"\\\"C:\\\\Download\\\\\\'hello\\'.py\\\"\")"
      ],
      "metadata": {
        "colab": {
          "base_uri": "https://localhost:8080/"
        },
        "id": "qRQuUrvd0rAt",
        "outputId": "51360835-8cbf-410b-b32f-755e88af2970"
      },
      "execution_count": 25,
      "outputs": [
        {
          "output_type": "stream",
          "name": "stdout",
          "text": [
            "\"C:\\Download\\'hello'.py\"\n"
          ]
        }
      ]
    },
    {
      "cell_type": "code",
      "source": [
        "print(\"print(\\\"Hello\\\\nWorld\\\")\")"
      ],
      "metadata": {
        "colab": {
          "base_uri": "https://localhost:8080/"
        },
        "id": "NP3S6Ivd1z_L",
        "outputId": "1dd9b283-545e-4cae-e289-7296a6bb1ff2"
      },
      "execution_count": 36,
      "outputs": [
        {
          "output_type": "stream",
          "name": "stdout",
          "text": [
            "print(\"Hello\\nWorld\")\n"
          ]
        }
      ]
    },
    {
      "cell_type": "code",
      "source": [
        "c=input()\n",
        "print(c)"
      ],
      "metadata": {
        "colab": {
          "base_uri": "https://localhost:8080/"
        },
        "id": "XHpDHMXG3mnI",
        "outputId": "212f560c-d320-4a40-ca27-356600b81b42"
      },
      "execution_count": 37,
      "outputs": [
        {
          "output_type": "stream",
          "name": "stdout",
          "text": [
            "c\n",
            "c\n"
          ]
        }
      ]
    },
    {
      "cell_type": "code",
      "source": [
        "n = input()\n",
        "n=int(n)\n",
        "print(n)"
      ],
      "metadata": {
        "colab": {
          "base_uri": "https://localhost:8080/"
        },
        "id": "N8XHDymb8zFx",
        "outputId": "69b47dbb-3140-4c7f-bf31-ccc3e3a4062e"
      },
      "execution_count": 42,
      "outputs": [
        {
          "output_type": "stream",
          "name": "stdout",
          "text": [
            "15\n",
            "15\n"
          ]
        }
      ]
    },
    {
      "cell_type": "code",
      "source": [
        "f = input()\n",
        "f = float(f)\n",
        "print(f)"
      ],
      "metadata": {
        "colab": {
          "base_uri": "https://localhost:8080/"
        },
        "id": "GNS36CjF9KDW",
        "outputId": "8333fdeb-c68b-4ecb-ccdb-4679db28573d"
      },
      "execution_count": 43,
      "outputs": [
        {
          "output_type": "stream",
          "name": "stdout",
          "text": [
            "1.412\n",
            "1.412\n"
          ]
        }
      ]
    },
    {
      "cell_type": "code",
      "source": [
        "a = input()\n",
        "b = input()\n",
        "a = int(a)\n",
        "b = int(b)\n",
        "print(a)\n",
        "print(b)"
      ],
      "metadata": {
        "colab": {
          "base_uri": "https://localhost:8080/"
        },
        "id": "pyz-G0cbCILw",
        "outputId": "b167f12c-1f54-44b0-f96a-86748a964ef4"
      },
      "execution_count": 44,
      "outputs": [
        {
          "output_type": "stream",
          "name": "stdout",
          "text": [
            "1\n",
            "2\n",
            "1\n",
            "2\n"
          ]
        }
      ]
    },
    {
      "cell_type": "code",
      "source": [
        "a = input()\n",
        "b = input()\n",
        "print(b)\n",
        "print(a)"
      ],
      "metadata": {
        "colab": {
          "base_uri": "https://localhost:8080/"
        },
        "id": "qe3SNtdACXNn",
        "outputId": "d7bfd688-029b-4b6e-b88c-7aa24ee3a4b4"
      },
      "execution_count": 45,
      "outputs": [
        {
          "output_type": "stream",
          "name": "stdout",
          "text": [
            "a\n",
            "b\n",
            "b\n",
            "a\n"
          ]
        }
      ]
    },
    {
      "cell_type": "code",
      "source": [
        "f= input()\n",
        "f = float(f)\n",
        "print(f)\n",
        "print(f)\n",
        "print(f)"
      ],
      "metadata": {
        "colab": {
          "base_uri": "https://localhost:8080/"
        },
        "id": "F8wdkcJJDvrh",
        "outputId": "a8502799-5443-43c3-8f46-9ff7e7e82aee"
      },
      "execution_count": 47,
      "outputs": [
        {
          "output_type": "stream",
          "name": "stdout",
          "text": [
            "0.1\n",
            "0.1\n",
            "0.1\n",
            "0.1\n"
          ]
        }
      ]
    },
    {
      "cell_type": "code",
      "source": [
        "a,b = input().split()\n",
        "a = int(a)\n",
        "b = int(b)\n",
        "print(a)\n",
        "print(b)"
      ],
      "metadata": {
        "colab": {
          "base_uri": "https://localhost:8080/"
        },
        "id": "ejoiSmYkD9w4",
        "outputId": "a1d0fc33-c036-4a38-f90f-b9f5adf68fdc"
      },
      "execution_count": 48,
      "outputs": [
        {
          "output_type": "stream",
          "name": "stdout",
          "text": [
            "1 2\n",
            "1\n",
            "2\n"
          ]
        }
      ]
    },
    {
      "cell_type": "code",
      "source": [
        "a,b = input().split()\n",
        "print(b, a)"
      ],
      "metadata": {
        "colab": {
          "base_uri": "https://localhost:8080/"
        },
        "id": "iGLuO8qREb93",
        "outputId": "7ffac764-5ed9-4c5f-8d43-b8ea29d6210b"
      },
      "execution_count": 50,
      "outputs": [
        {
          "output_type": "stream",
          "name": "stdout",
          "text": [
            "a b\n",
            "b a\n"
          ]
        }
      ]
    },
    {
      "cell_type": "code",
      "source": [
        "s = input()\n",
        "print(s,s,s)"
      ],
      "metadata": {
        "colab": {
          "base_uri": "https://localhost:8080/"
        },
        "id": "5TGxSBEUEner",
        "outputId": "4a6f6da2-3cce-43d9-90e4-bce53fb5b454"
      },
      "execution_count": 51,
      "outputs": [
        {
          "output_type": "stream",
          "name": "stdout",
          "text": [
            "computer science\n",
            "computer science computer science computer science\n"
          ]
        }
      ]
    },
    {
      "cell_type": "code",
      "source": [
        "a, b = input().split(':')\n",
        "print(a, b, sep=':')"
      ],
      "metadata": {
        "colab": {
          "base_uri": "https://localhost:8080/"
        },
        "id": "Yp6RUhhME33v",
        "outputId": "fd5b4952-ef01-437c-a93c-ff812be79601"
      },
      "execution_count": 52,
      "outputs": [
        {
          "output_type": "stream",
          "name": "stdout",
          "text": [
            "3:16\n",
            "3:16\n"
          ]
        }
      ]
    },
    {
      "cell_type": "code",
      "source": [
        "y, m, d = input().split('.')\n",
        "print(d, m, y, sep = '-')"
      ],
      "metadata": {
        "colab": {
          "base_uri": "https://localhost:8080/"
        },
        "id": "3HI3dzENFO_Y",
        "outputId": "4fa1d329-3c74-4856-e3d2-bc47f51abe7d"
      },
      "execution_count": 53,
      "outputs": [
        {
          "output_type": "stream",
          "name": "stdout",
          "text": [
            "2020.3.4\n",
            "4-3-2020\n"
          ]
        }
      ]
    },
    {
      "cell_type": "code",
      "source": [
        "a, b = input().split('-')\n",
        "print(a,b, sep=\"\")"
      ],
      "metadata": {
        "colab": {
          "base_uri": "https://localhost:8080/"
        },
        "id": "1jtg24_tFkbt",
        "outputId": "8f42d807-2c9b-4d55-c5a6-bfd80ab8ff48"
      },
      "execution_count": 54,
      "outputs": [
        {
          "output_type": "stream",
          "name": "stdout",
          "text": [
            "110011-000000\n",
            "110011000000\n"
          ]
        }
      ]
    },
    {
      "cell_type": "code",
      "source": [
        "s = input()\n",
        "print(s[0])\n",
        "print(s[1])\n",
        "print(s[2])\n",
        "print(s[3])\n",
        "print(s[4])\n"
      ],
      "metadata": {
        "colab": {
          "base_uri": "https://localhost:8080/"
        },
        "id": "b6cn_wxZGHST",
        "outputId": "a70c779b-ae9e-4ddd-e42d-035f8287810a"
      },
      "execution_count": 57,
      "outputs": [
        {
          "output_type": "stream",
          "name": "stdout",
          "text": [
            "HELLO\n",
            "H\n",
            "E\n",
            "L\n",
            "L\n",
            "O\n"
          ]
        }
      ]
    },
    {
      "cell_type": "code",
      "source": [
        "s=input()\n",
        "print(s[0:2],s[2:4],s[4:6])"
      ],
      "metadata": {
        "colab": {
          "base_uri": "https://localhost:8080/"
        },
        "id": "oBSWuSbGGxFg",
        "outputId": "bc4fdc41-3328-4b5f-8d77-12788d40c194"
      },
      "execution_count": 58,
      "outputs": [
        {
          "output_type": "stream",
          "name": "stdout",
          "text": [
            "200304\n",
            "20 03 04\n"
          ]
        }
      ]
    },
    {
      "cell_type": "code",
      "source": [
        "h, m, s = input().split(':')\n",
        "print(m)"
      ],
      "metadata": {
        "colab": {
          "base_uri": "https://localhost:8080/"
        },
        "id": "xFpTCD9EHTHK",
        "outputId": "f3ac3384-d60d-4828-fcc0-32d2531a01aa"
      },
      "execution_count": 59,
      "outputs": [
        {
          "output_type": "stream",
          "name": "stdout",
          "text": [
            "17:23:57\n",
            "23\n"
          ]
        }
      ]
    },
    {
      "cell_type": "code",
      "source": [
        "w1, w2 = input().split()\n",
        "s = w1 + w2\n",
        "print(s)"
      ],
      "metadata": {
        "colab": {
          "base_uri": "https://localhost:8080/"
        },
        "id": "udu8I4i0HkvN",
        "outputId": "fb2f5dd5-1ee3-4b92-8b89-609d5897942a"
      },
      "execution_count": 61,
      "outputs": [
        {
          "output_type": "stream",
          "name": "stdout",
          "text": [
            "hello world\n",
            "helloworld\n"
          ]
        }
      ]
    },
    {
      "cell_type": "code",
      "source": [
        "a, b = input().split()\n",
        "c = int(a) + int(b)\n",
        "print(c)"
      ],
      "metadata": {
        "colab": {
          "base_uri": "https://localhost:8080/"
        },
        "id": "3cDeUWUjHwiX",
        "outputId": "a62fd1d4-a990-4eec-8f2e-d887c50d249d"
      },
      "execution_count": 63,
      "outputs": [
        {
          "output_type": "stream",
          "name": "stdout",
          "text": [
            "123 -123\n",
            "0\n"
          ]
        }
      ]
    },
    {
      "cell_type": "code",
      "source": [
        "a = input()\n",
        "b = input()\n",
        "c = float(a)+float(b)\n",
        "print(c)"
      ],
      "metadata": {
        "colab": {
          "base_uri": "https://localhost:8080/"
        },
        "id": "StaTCyNdJjoM",
        "outputId": "38793f92-0464-45f7-de58-2b79f90f8f64"
      },
      "execution_count": 65,
      "outputs": [
        {
          "output_type": "stream",
          "name": "stdout",
          "text": [
            "0.1\n",
            "0.9\n",
            "1.0\n"
          ]
        }
      ]
    },
    {
      "cell_type": "code",
      "source": [
        "#10진수 형태로 입력받고 %x로 출력하면 16진수(hexadecimal) 소문자로 출력된다.(%o로 출력하면 8진수(octal) 문자열로 출력된다.)\n",
        "a = input()\n",
        "n = int(a)\n",
        "print('%x'%n)"
      ],
      "metadata": {
        "colab": {
          "base_uri": "https://localhost:8080/"
        },
        "id": "YzvenYi7J2Vn",
        "outputId": "05f6e400-2a18-4690-874a-8ed81cf81dee"
      },
      "execution_count": 66,
      "outputs": [
        {
          "output_type": "stream",
          "name": "stdout",
          "text": [
            "255\n",
            "ff\n"
          ]
        }
      ]
    },
    {
      "cell_type": "code",
      "source": [
        "a = input()\n",
        "n = int(a)\n",
        "print('%X'%n)"
      ],
      "metadata": {
        "colab": {
          "base_uri": "https://localhost:8080/"
        },
        "id": "WFKuxjh5KY-p",
        "outputId": "e8abc928-e7c8-4840-ee35-b6ef3f7b453c"
      },
      "execution_count": 67,
      "outputs": [
        {
          "output_type": "stream",
          "name": "stdout",
          "text": [
            "255\n",
            "FF\n"
          ]
        }
      ]
    },
    {
      "cell_type": "code",
      "source": [
        "# n = int(a, 16)      #입력된 a를 16진수로 인식해 변수 n에 저장\n",
        "a = input()\n",
        "n = int(a, 16)\n",
        "print('%o'%n)"
      ],
      "metadata": {
        "colab": {
          "base_uri": "https://localhost:8080/"
        },
        "id": "-ZCFHS75KhTm",
        "outputId": "688bfa7c-afca-4b32-c022-b93594c9483b"
      },
      "execution_count": 69,
      "outputs": [
        {
          "output_type": "stream",
          "name": "stdout",
          "text": [
            "f\n",
            "17\n"
          ]
        }
      ]
    },
    {
      "cell_type": "code",
      "source": [
        "#n = ord(input())  입력받은 문자를 10진수 유니코드 값으로 변환한 후, n에 저장한다.\n",
        "\n",
        "n = ord(input())\n",
        "print(n)"
      ],
      "metadata": {
        "colab": {
          "base_uri": "https://localhost:8080/"
        },
        "id": "kgr23mJhKyF-",
        "outputId": "9f2f8de4-38ce-4007-d2d9-88d18c81ba03"
      },
      "execution_count": 70,
      "outputs": [
        {
          "output_type": "stream",
          "name": "stdout",
          "text": [
            "A\n",
            "65\n"
          ]
        }
      ]
    },
    {
      "cell_type": "code",
      "source": [
        "#chr( )는 정수값->문자, ord( )는 문자->정수값 형태로 바꿔주는\n",
        "c = int(input())\n",
        "print(chr(c))"
      ],
      "metadata": {
        "colab": {
          "base_uri": "https://localhost:8080/"
        },
        "id": "U5v3Mdi2TISK",
        "outputId": "358943a9-1c80-4894-af87-0b233bceed7a"
      },
      "execution_count": 71,
      "outputs": [
        {
          "output_type": "stream",
          "name": "stdout",
          "text": [
            "65\n",
            "A\n"
          ]
        }
      ]
    },
    {
      "cell_type": "code",
      "source": [
        "n = input()\n",
        "n = int(n)\n",
        "print(-n)"
      ],
      "metadata": {
        "colab": {
          "base_uri": "https://localhost:8080/"
        },
        "id": "orbqOQeTTVYj",
        "outputId": "624e6102-9eb5-4e28-a6df-560a4acb1106"
      },
      "execution_count": 74,
      "outputs": [
        {
          "output_type": "stream",
          "name": "stdout",
          "text": [
            "-1\n",
            "1\n"
          ]
        }
      ]
    },
    {
      "cell_type": "code",
      "source": [
        "n = ord(input())\n",
        "print(chr(n+1))"
      ],
      "metadata": {
        "colab": {
          "base_uri": "https://localhost:8080/"
        },
        "id": "qcsCtgTgTfQa",
        "outputId": "3345e225-3e14-4ac6-b2e3-5c3de8247006"
      },
      "execution_count": 83,
      "outputs": [
        {
          "output_type": "stream",
          "name": "stdout",
          "text": [
            "A\n",
            "B\n"
          ]
        }
      ]
    },
    {
      "cell_type": "code",
      "source": [
        "a, b = input().split()\n",
        "c = int(a) - int(b)\n",
        "print(c)"
      ],
      "metadata": {
        "colab": {
          "base_uri": "https://localhost:8080/"
        },
        "id": "mzL0kWuDT7qu",
        "outputId": "8603383a-8c1d-48b6-b68a-57dfaf3ac35b"
      },
      "execution_count": 88,
      "outputs": [
        {
          "output_type": "stream",
          "name": "stdout",
          "text": [
            "123 -123\n",
            "246\n"
          ]
        }
      ]
    },
    {
      "cell_type": "code",
      "source": [
        "a, b = input().split()\n",
        "c = float(a) * float(b)\n",
        "print(c)"
      ],
      "metadata": {
        "colab": {
          "base_uri": "https://localhost:8080/"
        },
        "id": "1H6A-PHzU0LL",
        "outputId": "6e680739-4812-450c-e2b9-05382f7f373e"
      },
      "execution_count": 90,
      "outputs": [
        {
          "output_type": "stream",
          "name": "stdout",
          "text": [
            "0.5 2.0\n",
            "1.0\n"
          ]
        }
      ]
    },
    {
      "cell_type": "code",
      "source": [
        "w, n = input().split()\n",
        "print(w * int(n))"
      ],
      "metadata": {
        "colab": {
          "base_uri": "https://localhost:8080/"
        },
        "id": "quK5fjKnVhqn",
        "outputId": "55ec0502-5b6d-47da-81bd-38f336339938"
      },
      "execution_count": 91,
      "outputs": [
        {
          "output_type": "stream",
          "name": "stdout",
          "text": [
            "안뇽 3\n",
            "안뇽안뇽안뇽\n"
          ]
        }
      ]
    },
    {
      "cell_type": "code",
      "source": [
        "n = input()\n",
        "s = input()\n",
        "print(int(n)*s)"
      ],
      "metadata": {
        "colab": {
          "base_uri": "https://localhost:8080/"
        },
        "id": "jUgGpSU_Vv_w",
        "outputId": "3d3e1f25-ca26-45a1-e97e-2021cc6d1768"
      },
      "execution_count": 92,
      "outputs": [
        {
          "output_type": "stream",
          "name": "stdout",
          "text": [
            "3\n",
            "안뇽\n",
            "안뇽안뇽안뇽\n"
          ]
        }
      ]
    },
    {
      "cell_type": "code",
      "source": [
        "a, b = input().split()\n",
        "c = int(a)**int(b)\n",
        "print(c)"
      ],
      "metadata": {
        "colab": {
          "base_uri": "https://localhost:8080/"
        },
        "id": "lwC5NHTPV7EP",
        "outputId": "8ea047bb-4535-448a-c10f-139e3de88dcf"
      },
      "execution_count": 93,
      "outputs": [
        {
          "output_type": "stream",
          "name": "stdout",
          "text": [
            "2 10\n",
            "1024\n"
          ]
        }
      ]
    },
    {
      "cell_type": "code",
      "source": [
        "a, b = input().split()\n",
        "c = float(a)**float(b)\n",
        "print(c)"
      ],
      "metadata": {
        "colab": {
          "base_uri": "https://localhost:8080/"
        },
        "id": "Arfxq-QoWKqv",
        "outputId": "b5a13c0f-5bee-4797-b882-13be9bccbf75"
      },
      "execution_count": 94,
      "outputs": [
        {
          "output_type": "stream",
          "name": "stdout",
          "text": [
            "4.0 2.0\n",
            "16.0\n"
          ]
        }
      ]
    },
    {
      "cell_type": "code",
      "source": [
        "a, b = input().split()\n",
        "c = int(a)//int(b)\n",
        "print(c)"
      ],
      "metadata": {
        "colab": {
          "base_uri": "https://localhost:8080/"
        },
        "id": "73slHPVfWSUI",
        "outputId": "3406955c-d54c-4d24-b126-89655c90f8c0"
      },
      "execution_count": 95,
      "outputs": [
        {
          "output_type": "stream",
          "name": "stdout",
          "text": [
            "10 3\n",
            "3\n"
          ]
        }
      ]
    },
    {
      "cell_type": "code",
      "source": [
        "a, b = input().split()\n",
        "c = int(a)%int(b)\n",
        "print(c)"
      ],
      "metadata": {
        "colab": {
          "base_uri": "https://localhost:8080/"
        },
        "id": "1Pn8cKv1WcxH",
        "outputId": "9dfb13ce-90eb-45ea-b6f5-cd9d559a28ce"
      },
      "execution_count": 96,
      "outputs": [
        {
          "output_type": "stream",
          "name": "stdout",
          "text": [
            "10 3\n",
            "1\n"
          ]
        }
      ]
    },
    {
      "cell_type": "code",
      "source": [
        "a = input()\n",
        "a = float(a)\n",
        "print(format(a,\".2f\"))"
      ],
      "metadata": {
        "colab": {
          "base_uri": "https://localhost:8080/"
        },
        "id": "cOA54oOlWj56",
        "outputId": "b3ef47d7-d4b0-4ff1-9eae-35ef0537bd39"
      },
      "execution_count": 100,
      "outputs": [
        {
          "output_type": "stream",
          "name": "stdout",
          "text": [
            "3.141592\n",
            "3.14\n"
          ]
        }
      ]
    },
    {
      "cell_type": "code",
      "source": [
        "a, b = input().split()\n",
        "c = float(a)/float(b)\n",
        "print(format(c,\".3f\"))"
      ],
      "metadata": {
        "colab": {
          "base_uri": "https://localhost:8080/"
        },
        "id": "qQADuF2TWxUe",
        "outputId": "1402db8b-dfe8-4450-c7e9-68477e0b3735"
      },
      "execution_count": 102,
      "outputs": [
        {
          "output_type": "stream",
          "name": "stdout",
          "text": [
            "10.0 3.0\n",
            "3.333\n"
          ]
        }
      ]
    },
    {
      "cell_type": "code",
      "source": [
        "a, b = input().split()\n",
        "a, b = int(a), int(b)\n",
        "c = a + b\n",
        "d = a - b\n",
        "e = a * b\n",
        "f = a // b\n",
        "g = a % b\n",
        "h = a / b\n",
        "print(c)\n",
        "print(d)\n",
        "print(e)\n",
        "print(f)\n",
        "print(g)\n",
        "print(format(h, \".2f\"))"
      ],
      "metadata": {
        "colab": {
          "base_uri": "https://localhost:8080/"
        },
        "id": "NAEOr3eOXQY-",
        "outputId": "c39477e6-d1d1-4141-e58c-ea702163bd9c"
      },
      "execution_count": 106,
      "outputs": [
        {
          "output_type": "stream",
          "name": "stdout",
          "text": [
            "10 3\n",
            "13\n",
            "7\n",
            "30\n",
            "3\n",
            "1\n",
            "3.33\n"
          ]
        }
      ]
    },
    {
      "cell_type": "code",
      "source": [
        "a, b, c = input().split()\n",
        "a, b, c = int(a), int(b), int(c)\n",
        "d = a + b+ c\n",
        "e = (a+b+c)/3\n",
        "print(d, format(e,\".2f\"))"
      ],
      "metadata": {
        "colab": {
          "base_uri": "https://localhost:8080/"
        },
        "id": "BCP9bgZ5YKrL",
        "outputId": "5e0d1c1d-4118-479b-8149-82dafa4549d3"
      },
      "execution_count": 109,
      "outputs": [
        {
          "output_type": "stream",
          "name": "stdout",
          "text": [
            "1 2 3\n",
            "6 2.00\n"
          ]
        }
      ]
    },
    {
      "cell_type": "code",
      "source": [
        "n = input()\n",
        "n = int(n)\n",
        "print(n<<1)"
      ],
      "metadata": {
        "colab": {
          "base_uri": "https://localhost:8080/"
        },
        "id": "bT_bwCagZK3Q",
        "outputId": "9662f5a9-991d-40ca-c350-e5d9028a2fac"
      },
      "execution_count": 111,
      "outputs": [
        {
          "output_type": "stream",
          "name": "stdout",
          "text": [
            "1024\n",
            "2048\n"
          ]
        }
      ]
    },
    {
      "cell_type": "code",
      "source": [
        "a, b = input().split()\n",
        "a, b = int(a), int(b)\n",
        "#정수 2개(a, b)를 입력받아 a를 2b배 곱한 값으로 출력해보자.\n",
        "print(a<<b)"
      ],
      "metadata": {
        "colab": {
          "base_uri": "https://localhost:8080/"
        },
        "id": "qAMWGZ6AbB0u",
        "outputId": "a729d4fa-465a-4085-a83d-89e322420897"
      },
      "execution_count": 113,
      "outputs": [
        {
          "output_type": "stream",
          "name": "stdout",
          "text": [
            "1 3\n",
            "8\n"
          ]
        }
      ]
    },
    {
      "cell_type": "code",
      "source": [
        "a, b = input().split()\n",
        "a, b = int(a), int(b)\n",
        "print(a<b)"
      ],
      "metadata": {
        "colab": {
          "base_uri": "https://localhost:8080/"
        },
        "id": "Qqv1Fih8bUDP",
        "outputId": "2cb33887-39e8-48d9-82b3-4e0f56dd40bc"
      },
      "execution_count": 115,
      "outputs": [
        {
          "output_type": "stream",
          "name": "stdout",
          "text": [
            "1 9\n",
            "True\n"
          ]
        }
      ]
    },
    {
      "cell_type": "code",
      "source": [
        "a, b = input().split()\n",
        "a, b = int(a), int(b)\n",
        "print(a==b)"
      ],
      "metadata": {
        "colab": {
          "base_uri": "https://localhost:8080/"
        },
        "id": "RxE95HQIb61m",
        "outputId": "33bab084-7727-4f3e-b58a-c6175041a7b5"
      },
      "execution_count": 116,
      "outputs": [
        {
          "output_type": "stream",
          "name": "stdout",
          "text": [
            "0 0\n",
            "True\n"
          ]
        }
      ]
    },
    {
      "cell_type": "code",
      "source": [
        "a, b = input().split()\n",
        "a, b = int(a), int(b)\n",
        "print(a<=b)"
      ],
      "metadata": {
        "colab": {
          "base_uri": "https://localhost:8080/"
        },
        "id": "BMzYCVX5cCkZ",
        "outputId": "f35bde08-8c12-4512-bc94-1257337daf4e"
      },
      "execution_count": 118,
      "outputs": [
        {
          "output_type": "stream",
          "name": "stdout",
          "text": [
            "0 -1\n",
            "False\n"
          ]
        }
      ]
    },
    {
      "cell_type": "code",
      "source": [
        "a, b = input().split()\n",
        "a, b = int(a), int(b)\n",
        "print(a != b)"
      ],
      "metadata": {
        "colab": {
          "base_uri": "https://localhost:8080/"
        },
        "id": "tT2H6jUJcJ_s",
        "outputId": "ad4206cb-17f6-451f-bf81-2c788768beb2"
      },
      "execution_count": 119,
      "outputs": [
        {
          "output_type": "stream",
          "name": "stdout",
          "text": [
            "0 1\n",
            "True\n"
          ]
        }
      ]
    },
    {
      "cell_type": "code",
      "source": [
        "n = int(input())\n",
        "print(bool(n))"
      ],
      "metadata": {
        "colab": {
          "base_uri": "https://localhost:8080/"
        },
        "id": "PNA2ZcR5cVUM",
        "outputId": "e93f8237-0a45-4439-95ff-5ed3d787aa22"
      },
      "execution_count": 122,
      "outputs": [
        {
          "output_type": "stream",
          "name": "stdout",
          "text": [
            "0\n",
            "False\n"
          ]
        }
      ]
    },
    {
      "cell_type": "code",
      "source": [
        "a = bool(int(input()))\n",
        "print(not a)"
      ],
      "metadata": {
        "colab": {
          "base_uri": "https://localhost:8080/"
        },
        "id": "KW1ayB0NcfME",
        "outputId": "185af395-ee8d-49de-ce60-cceee451f827"
      },
      "execution_count": 123,
      "outputs": [
        {
          "output_type": "stream",
          "name": "stdout",
          "text": [
            "1\n",
            "False\n"
          ]
        }
      ]
    },
    {
      "cell_type": "code",
      "source": [
        "a, b = input().split()\n",
        "print(bool(int(a) and bool(int(b))))"
      ],
      "metadata": {
        "colab": {
          "base_uri": "https://localhost:8080/"
        },
        "id": "LZFgIaY2cyTy",
        "outputId": "c9b67035-0855-469e-bc9d-6fde1d848bb6"
      },
      "execution_count": 124,
      "outputs": [
        {
          "output_type": "stream",
          "name": "stdout",
          "text": [
            "1 1\n",
            "True\n"
          ]
        }
      ]
    },
    {
      "cell_type": "code",
      "source": [
        "a, b = input().split()\n",
        "print(bool(int(a) or bool(int(b))))"
      ],
      "metadata": {
        "colab": {
          "base_uri": "https://localhost:8080/"
        },
        "id": "wvQSWqDQdOfW",
        "outputId": "f2000fa8-5e20-4053-c1f4-a50dab06a0c4"
      },
      "execution_count": 125,
      "outputs": [
        {
          "output_type": "stream",
          "name": "stdout",
          "text": [
            "1 1\n",
            "True\n"
          ]
        }
      ]
    },
    {
      "cell_type": "code",
      "source": [
        "#참 거짓이 서로 다를 때에만 True 로 계산하는 논리연산을 XOR(exclusive or, 배타적 논리합) 연산이라고도 부른다.\n",
        "a, b = input().split()\n",
        "c = bool(int(a))\n",
        "d = bool(int(b))\n",
        "print((c and (not d)) or ((not c) and d))"
      ],
      "metadata": {
        "colab": {
          "base_uri": "https://localhost:8080/"
        },
        "id": "aTPP-CqMdYE_",
        "outputId": "8789f7d2-5ad2-4266-c6fb-10b309f65d7a"
      },
      "execution_count": 130,
      "outputs": [
        {
          "output_type": "stream",
          "name": "stdout",
          "text": [
            "1 0\n",
            "True\n"
          ]
        }
      ]
    },
    {
      "cell_type": "code",
      "source": [
        "a, b = input().split()\n",
        "c = bool(int(a))\n",
        "d = bool(int(b))\n",
        "print((not c and not d) or (c and d))"
      ],
      "metadata": {
        "colab": {
          "base_uri": "https://localhost:8080/"
        },
        "id": "CNS6ghwah5sO",
        "outputId": "2b8429fc-549c-458e-cd09-fc30c2ccb64d"
      },
      "execution_count": 137,
      "outputs": [
        {
          "output_type": "stream",
          "name": "stdout",
          "text": [
            "0 0\n",
            "True\n"
          ]
        }
      ]
    },
    {
      "cell_type": "code",
      "source": [
        "a, b = input().split()\n",
        "c = bool(int(a))\n",
        "d = bool(int(b))\n",
        "print( not (c or d))"
      ],
      "metadata": {
        "colab": {
          "base_uri": "https://localhost:8080/"
        },
        "id": "84WqbGwPi2Rj",
        "outputId": "19a35617-e88c-48e0-d413-959543e4566f"
      },
      "execution_count": 139,
      "outputs": [
        {
          "output_type": "stream",
          "name": "stdout",
          "text": [
            "0 0\n",
            "True\n"
          ]
        }
      ]
    },
    {
      "cell_type": "code",
      "source": [
        "#입력 된 정수를 비트단위로 참/거짓을 바꾼 후 정수로 출력해보자. 비트단위(bitwise)연산자 ~ 를 붙이면 된다.(~ : tilde, 틸드라고 읽는다.)\n",
        "a = int(input())\n",
        "print(~a)"
      ],
      "metadata": {
        "colab": {
          "base_uri": "https://localhost:8080/"
        },
        "id": "CNnXBmXXjtgI",
        "outputId": "867fb059-13c5-4111-bdb3-9ebadd743846"
      },
      "execution_count": 141,
      "outputs": [
        {
          "output_type": "stream",
          "name": "stdout",
          "text": [
            "2\n",
            "-3\n"
          ]
        }
      ]
    },
    {
      "cell_type": "code",
      "source": [
        "a, b = input().split()\n",
        "a, b = int(a), int(b)\n",
        "print(a & b)"
      ],
      "metadata": {
        "colab": {
          "base_uri": "https://localhost:8080/"
        },
        "id": "mn1GrVAXkR4B",
        "outputId": "65e43d79-6df3-4aad-9eb1-64b5923bae7a"
      },
      "execution_count": 144,
      "outputs": [
        {
          "output_type": "stream",
          "name": "stdout",
          "text": [
            "3 5\n",
            "1\n"
          ]
        }
      ]
    },
    {
      "cell_type": "code",
      "source": [
        "a, b = input().split()\n",
        "a, b = int(a), int(b)\n",
        "print(a | b)"
      ],
      "metadata": {
        "colab": {
          "base_uri": "https://localhost:8080/"
        },
        "id": "QZ7P3OvcldQ7",
        "outputId": "fb6b09c8-7c56-4a9b-f571-e9c466ddce5e"
      },
      "execution_count": 145,
      "outputs": [
        {
          "output_type": "stream",
          "name": "stdout",
          "text": [
            "3 5\n",
            "7\n"
          ]
        }
      ]
    },
    {
      "cell_type": "code",
      "source": [
        "a, b = input().split()\n",
        "a, b = int(a), int(b)\n",
        "print((~a & b) | (a & ~b))"
      ],
      "metadata": {
        "colab": {
          "base_uri": "https://localhost:8080/"
        },
        "id": "E1m1j6x0lti1",
        "outputId": "f53fddb6-1605-4c9f-a299-a7ab649fa6e5"
      },
      "execution_count": 148,
      "outputs": [
        {
          "output_type": "stream",
          "name": "stdout",
          "text": [
            "3 5\n",
            "6\n"
          ]
        }
      ]
    },
    {
      "cell_type": "code",
      "source": [
        "a, b = input().split()\n",
        "a = int(a)\n",
        "b = int(b)\n",
        "c = (a if(a>b) else b)\n",
        "print(int(c))"
      ],
      "metadata": {
        "colab": {
          "base_uri": "https://localhost:8080/"
        },
        "id": "WUVGjO0El3eV",
        "outputId": "d3ffb8e5-8ee1-47fd-f12d-98dccd1f0ecf"
      },
      "execution_count": 150,
      "outputs": [
        {
          "output_type": "stream",
          "name": "stdout",
          "text": [
            "123 456\n",
            "456\n"
          ]
        }
      ]
    },
    {
      "cell_type": "code",
      "source": [
        "#조금 헷갈렸음\n",
        "a, b, c = map(int, input().split())\n",
        "print((a if a<b else b) if ((a if a<b else b)<c) else c)"
      ],
      "metadata": {
        "colab": {
          "base_uri": "https://localhost:8080/"
        },
        "id": "dPyKWS8HmOck",
        "outputId": "c92fe822-12e1-4500-858c-b20bc20a576a"
      },
      "execution_count": 151,
      "outputs": [
        {
          "output_type": "stream",
          "name": "stdout",
          "text": [
            "3 -1 5\n",
            "-1\n"
          ]
        }
      ]
    },
    {
      "cell_type": "code",
      "source": [
        "a, b, c = map(int, input().split())\n",
        "if a%2 == 0:\n",
        "    print(a)\n",
        "if b%2 == 0:\n",
        "    print(b)\n",
        "if c%2==0:\n",
        "    print(c)"
      ],
      "metadata": {
        "colab": {
          "base_uri": "https://localhost:8080/"
        },
        "id": "RxJllyRMm97-",
        "outputId": "ec848071-34d9-4618-e051-c587e0cc9359"
      },
      "execution_count": 152,
      "outputs": [
        {
          "output_type": "stream",
          "name": "stdout",
          "text": [
            "1 2 4\n",
            "2\n",
            "4\n"
          ]
        }
      ]
    },
    {
      "cell_type": "code",
      "source": [
        "a, b, c = map(int, input().split())\n",
        "if a%2==0 :\n",
        "  print(\"even\")\n",
        "else :\n",
        "  print(\"odd\") \n",
        "if b%2==0 :\n",
        "  print(\"even\")\n",
        "else :\n",
        "  print(\"odd\") \n",
        "if c%2==0 :\n",
        "  print(\"even\")\n",
        "else :\n",
        "  print(\"odd\") "
      ],
      "metadata": {
        "colab": {
          "base_uri": "https://localhost:8080/"
        },
        "id": "AMwDT-mgnfhf",
        "outputId": "1531c615-80b9-498b-b40f-274302edc583"
      },
      "execution_count": 155,
      "outputs": [
        {
          "output_type": "stream",
          "name": "stdout",
          "text": [
            "1 2 8\n",
            "odd\n",
            "even\n",
            "even\n"
          ]
        }
      ]
    },
    {
      "cell_type": "code",
      "source": [
        "n = int(input())\n",
        "if n < 0:\n",
        "    if n%2==0:\n",
        "        print('A')\n",
        "    else:\n",
        "        print('B')\n",
        "else:\n",
        "   if n%2==0:\n",
        "        print('C')\n",
        "   else:\n",
        "        print('D')"
      ],
      "metadata": {
        "colab": {
          "base_uri": "https://localhost:8080/"
        },
        "id": "aqVFn5nbnpuM",
        "outputId": "0e5cde83-a8a1-44a7-d94f-a67d98008d63"
      },
      "execution_count": 158,
      "outputs": [
        {
          "output_type": "stream",
          "name": "stdout",
          "text": [
            "-2147483648\n",
            "A\n"
          ]
        }
      ]
    },
    {
      "cell_type": "code",
      "source": [
        "n = int(input())\n",
        "if n>=90 :\n",
        "  print('A')\n",
        "else :\n",
        "  if n>=70 :\n",
        "    print('B')\n",
        "  else :\n",
        "    if n>=40 :\n",
        "      print('C')\n",
        "    else :\n",
        "      print('D')"
      ],
      "metadata": {
        "colab": {
          "base_uri": "https://localhost:8080/"
        },
        "id": "oLf2tTEyoVpF",
        "outputId": "2bb85311-eda3-4a4a-869d-649ded78055f"
      },
      "execution_count": 159,
      "outputs": [
        {
          "output_type": "stream",
          "name": "stdout",
          "text": [
            "73\n",
            "B\n"
          ]
        }
      ]
    },
    {
      "cell_type": "code",
      "source": [
        "n = input()\n",
        "if n == 'A':\n",
        "    print('best!!!')\n",
        "elif n == 'B':\n",
        "    print('good!!')\n",
        "elif n == 'C':\n",
        "     print('run!')\n",
        "elif n == 'D':\n",
        "     print('slowly~')\n",
        "else:\n",
        "     print('what?')"
      ],
      "metadata": {
        "colab": {
          "base_uri": "https://localhost:8080/"
        },
        "id": "jmQRmyLcotGH",
        "outputId": "334c46e6-526d-47c9-c3a2-df510cdb5226"
      },
      "execution_count": 163,
      "outputs": [
        {
          "output_type": "stream",
          "name": "stdout",
          "text": [
            "A\n",
            "best!!!\n"
          ]
        }
      ]
    },
    {
      "cell_type": "code",
      "source": [
        "n = int(input())\n",
        "if n//3 == 0:\n",
        "    print('winter')\n",
        "elif n//3 == 1:\n",
        "    print('spring')\n",
        "elif n//3 == 2:\n",
        "    print('summer')\n",
        "elif n//3 == 3:\n",
        "    print('fall')\n",
        "elif n//3 ==4:\n",
        "    print('winter')"
      ],
      "metadata": {
        "colab": {
          "base_uri": "https://localhost:8080/"
        },
        "id": "SwV32SXcpQHz",
        "outputId": "364c1c9c-34d8-4518-d166-fd80cc02b025"
      },
      "execution_count": 165,
      "outputs": [
        {
          "output_type": "stream",
          "name": "stdout",
          "text": [
            "12\n",
            "winter\n"
          ]
        }
      ]
    },
    {
      "cell_type": "code",
      "source": [
        "n = 1\n",
        "while n!=0:\n",
        "    n = int(input())\n",
        "    if n!=0:\n",
        "        print(n)"
      ],
      "metadata": {
        "colab": {
          "base_uri": "https://localhost:8080/"
        },
        "id": "ms8wo3e7prD_",
        "outputId": "bd3aa11f-3d4c-4760-ee78-aa2ac5a058bb"
      },
      "execution_count": 169,
      "outputs": [
        {
          "name": "stdout",
          "output_type": "stream",
          "text": [
            "7\n",
            "7\n",
            "4\n",
            "4\n",
            "2\n",
            "2\n",
            "3\n",
            "3\n",
            "0\n"
          ]
        }
      ]
    },
    {
      "cell_type": "code",
      "source": [
        "n = int(input())\n",
        "while n!=0:\n",
        "    print(n)\n",
        "    n=n-1"
      ],
      "metadata": {
        "colab": {
          "base_uri": "https://localhost:8080/"
        },
        "id": "lKECEP4OqxRj",
        "outputId": "874426dd-7af2-46cb-f779-b346edd7e232"
      },
      "execution_count": 173,
      "outputs": [
        {
          "output_type": "stream",
          "name": "stdout",
          "text": [
            "5\n",
            "5\n",
            "4\n",
            "3\n",
            "2\n",
            "1\n"
          ]
        }
      ]
    },
    {
      "cell_type": "code",
      "source": [
        "n = int(input())\n",
        "while n!=0:\n",
        "    print(n-1)\n",
        "    n=n-1"
      ],
      "metadata": {
        "colab": {
          "base_uri": "https://localhost:8080/"
        },
        "id": "9qcmEASXrby5",
        "outputId": "6432b384-61b4-47bb-fb7a-430e55470099"
      },
      "execution_count": 174,
      "outputs": [
        {
          "output_type": "stream",
          "name": "stdout",
          "text": [
            "5\n",
            "4\n",
            "3\n",
            "2\n",
            "1\n",
            "0\n"
          ]
        }
      ]
    },
    {
      "cell_type": "code",
      "source": [
        "#chr( )는 정수값->문자, ord( )는 문자->정수값 형태로 바꿔주는\n",
        "c = ord(input())\n",
        "t = ord('a')\n",
        "while t<=c:\n",
        "    print(chr(t), end =' ')\n",
        "    t += 1"
      ],
      "metadata": {
        "colab": {
          "base_uri": "https://localhost:8080/"
        },
        "id": "PdJBwIblrcuY",
        "outputId": "7bb15439-9ba1-4519-8314-bcd0a7bd1b57"
      },
      "execution_count": 176,
      "outputs": [
        {
          "output_type": "stream",
          "name": "stdout",
          "text": [
            "f\n",
            "a b c d e f "
          ]
        }
      ]
    },
    {
      "cell_type": "code",
      "source": [
        "a = int(input())\n",
        "t = 0\n",
        "while t<=a:\n",
        "    print(t, end = '\\n')\n",
        "    t+=1"
      ],
      "metadata": {
        "colab": {
          "base_uri": "https://localhost:8080/"
        },
        "id": "154aY5P4t2Ni",
        "outputId": "1ea78151-f4e2-45f5-d99c-ac6a2a2d3dd9"
      },
      "execution_count": 177,
      "outputs": [
        {
          "output_type": "stream",
          "name": "stdout",
          "text": [
            "4\n",
            "0\n",
            "1\n",
            "2\n",
            "3\n",
            "4\n"
          ]
        }
      ]
    },
    {
      "cell_type": "code",
      "source": [
        "n = int(input())\n",
        "for i in range(n+1):\n",
        "    print(i)"
      ],
      "metadata": {
        "colab": {
          "base_uri": "https://localhost:8080/"
        },
        "id": "8x8mKx_iudHg",
        "outputId": "f3c01f4a-ce9e-41ec-b5b8-ccb567363a25"
      },
      "execution_count": 178,
      "outputs": [
        {
          "output_type": "stream",
          "name": "stdout",
          "text": [
            "4\n",
            "0\n",
            "1\n",
            "2\n",
            "3\n",
            "4\n"
          ]
        }
      ]
    },
    {
      "cell_type": "code",
      "source": [
        "n = int(input())\n",
        "s=0\n",
        "for i in range(1, n+1):\n",
        "    if i%2 ==0:\n",
        "        s+=i\n",
        "print(s)"
      ],
      "metadata": {
        "colab": {
          "base_uri": "https://localhost:8080/"
        },
        "id": "sjm3i5I3uvXJ",
        "outputId": "33030813-dc9e-44f6-ce06-e8e2f411df41"
      },
      "execution_count": 179,
      "outputs": [
        {
          "output_type": "stream",
          "name": "stdout",
          "text": [
            "5\n",
            "6\n"
          ]
        }
      ]
    },
    {
      "cell_type": "code",
      "source": [
        "while True:\n",
        "    x = input()\n",
        "    print(x)\n",
        "    if x =='q':\n",
        "        break"
      ],
      "metadata": {
        "colab": {
          "base_uri": "https://localhost:8080/"
        },
        "id": "I6s2d_CSvGaA",
        "outputId": "c8582081-bb26-416b-dff5-2bcbc6bfaaeb"
      },
      "execution_count": 183,
      "outputs": [
        {
          "output_type": "stream",
          "name": "stdout",
          "text": [
            "e\n",
            "e\n",
            "d\n",
            "d\n",
            "\n",
            "\n",
            "z\n",
            "z\n",
            "q\n",
            "q\n"
          ]
        }
      ]
    },
    {
      "cell_type": "code",
      "source": [
        "#헷갈렸음\n",
        "n = int(input())\n",
        "s=0\n",
        "for i in range(0, n):\n",
        "    i +=1\n",
        "    s+=i\n",
        "    if s>=n:\n",
        "        print(i)\n",
        "        break"
      ],
      "metadata": {
        "colab": {
          "base_uri": "https://localhost:8080/"
        },
        "id": "KIJJtQzywaEg",
        "outputId": "ed5b64d6-2ada-47ae-9acc-6a663150baa2"
      },
      "execution_count": 198,
      "outputs": [
        {
          "output_type": "stream",
          "name": "stdout",
          "text": [
            "55\n",
            "10\n"
          ]
        }
      ]
    },
    {
      "cell_type": "code",
      "source": [
        "n, m = map(int, input().split())\n",
        "for i in range(1, n+1):\n",
        "    for j in range(1, m+1):\n",
        "        print(i,j)"
      ],
      "metadata": {
        "colab": {
          "base_uri": "https://localhost:8080/"
        },
        "id": "Y29jt3ajv679",
        "outputId": "7aa88c58-4c16-473a-e7d3-0593a0fde8ff"
      },
      "execution_count": 201,
      "outputs": [
        {
          "output_type": "stream",
          "name": "stdout",
          "text": [
            "2 3\n",
            "1 1\n",
            "1 2\n",
            "1 3\n",
            "2 1\n",
            "2 2\n",
            "2 3\n"
          ]
        }
      ]
    },
    {
      "cell_type": "code",
      "source": [
        "a = int(input(), 16)\n",
        "\n",
        "for i in range(1,16):\n",
        "    print(\"%X*%X=%X\" % (a, i, a*i))"
      ],
      "metadata": {
        "colab": {
          "base_uri": "https://localhost:8080/"
        },
        "id": "pdmjhx8hzAIZ",
        "outputId": "d7367339-4ab0-452e-fa9d-039940accbd4"
      },
      "execution_count": 206,
      "outputs": [
        {
          "output_type": "stream",
          "name": "stdout",
          "text": [
            "B\n",
            "B*1=B\n",
            "B*2=16\n",
            "B*3=21\n",
            "B*4=2C\n",
            "B*5=37\n",
            "B*6=42\n",
            "B*7=4D\n",
            "B*8=58\n",
            "B*9=63\n",
            "B*A=6E\n",
            "B*B=79\n",
            "B*C=84\n",
            "B*D=8F\n",
            "B*E=9A\n",
            "B*F=A5\n"
          ]
        }
      ]
    },
    {
      "cell_type": "code",
      "source": [
        "# ㅠㅠ\n",
        "n = int(input())\n",
        "for i in range(1, n+1):\n",
        "    if i%10==3 or i%10==6 or i%10==9:\n",
        "        print(\"X\", end=\" \") \n",
        "    else:\n",
        "        print(i, end=\" \")"
      ],
      "metadata": {
        "colab": {
          "base_uri": "https://localhost:8080/"
        },
        "id": "EFgqF57XzfGw",
        "outputId": "30b4c340-b24b-4f42-96e5-98557926a5c5"
      },
      "execution_count": 212,
      "outputs": [
        {
          "output_type": "stream",
          "name": "stdout",
          "text": [
            "9\n",
            "1 2 X 4 5 X 7 8 X "
          ]
        }
      ]
    },
    {
      "cell_type": "code",
      "source": [
        "r,g,b = map(int, input().split())\n",
        "for i in range(r):\n",
        "    for j in range(g):\n",
        "        for k in range(b):\n",
        "            print(i, j, k)\n",
        "print(r*g*b)"
      ],
      "metadata": {
        "colab": {
          "base_uri": "https://localhost:8080/"
        },
        "id": "FB-rDk-S0o2M",
        "outputId": "3885d398-8145-481a-ec2f-be459da6c91e"
      },
      "execution_count": 214,
      "outputs": [
        {
          "output_type": "stream",
          "name": "stdout",
          "text": [
            "2 2 2\n",
            "0 0 0\n",
            "0 0 1\n",
            "0 1 0\n",
            "0 1 1\n",
            "1 0 0\n",
            "1 0 1\n",
            "1 1 0\n",
            "1 1 1\n",
            "8\n"
          ]
        }
      ]
    },
    {
      "cell_type": "code",
      "source": [
        "h, b, c, s = map(int, input().split())\n",
        "i = (h*b*c*s)/8/1024/1024\n",
        "print(format(i, \".1f\"),\"MB\")"
      ],
      "metadata": {
        "colab": {
          "base_uri": "https://localhost:8080/"
        },
        "id": "6KUL-88N3AkI",
        "outputId": "ef9769b8-12a8-41d8-fa17-fda5089e0b5b"
      },
      "execution_count": 228,
      "outputs": [
        {
          "output_type": "stream",
          "name": "stdout",
          "text": [
            "44100 16 2 10\n",
            "1.7 MB\n"
          ]
        }
      ]
    },
    {
      "cell_type": "code",
      "source": [
        "w, h, b = map(int, input().split())\n",
        "i = (w*h*b)/8/1024/1024\n",
        "print(format(i, \".2f\"), \"MB\")"
      ],
      "metadata": {
        "colab": {
          "base_uri": "https://localhost:8080/"
        },
        "id": "nzfRIQd-3wbq",
        "outputId": "6372f00c-0779-44ef-8a09-38ab09e3139b"
      },
      "execution_count": 229,
      "outputs": [
        {
          "output_type": "stream",
          "name": "stdout",
          "text": [
            "1024 768 24\n",
            "2.25 MB\n"
          ]
        }
      ]
    },
    {
      "cell_type": "code",
      "source": [
        "n = int(input())\n",
        "a = 0\n",
        "b = 0\n",
        "while True: \n",
        "    a+=b\n",
        "    b+=1\n",
        "    if a>=n:\n",
        "        break\n",
        "print(a)"
      ],
      "metadata": {
        "colab": {
          "base_uri": "https://localhost:8080/"
        },
        "id": "mNjpk8jN5p92",
        "outputId": "3879252e-dc6d-48c9-e31a-eda724f392ac"
      },
      "execution_count": 230,
      "outputs": [
        {
          "output_type": "stream",
          "name": "stdout",
          "text": [
            "57\n",
            "66\n"
          ]
        }
      ]
    },
    {
      "cell_type": "code",
      "source": [
        "n = int(input())\n",
        "for i in range(1, n+1):\n",
        "    if i%3 ==0:\n",
        "        continue\n",
        "    print(i, end=\" \")"
      ],
      "metadata": {
        "colab": {
          "base_uri": "https://localhost:8080/"
        },
        "id": "rcY8EPO765vQ",
        "outputId": "54f81f61-9905-4498-be24-a49e0809322e"
      },
      "execution_count": 231,
      "outputs": [
        {
          "output_type": "stream",
          "name": "stdout",
          "text": [
            "10\n",
            "1 2 4 5 7 8 10 "
          ]
        }
      ]
    },
    {
      "cell_type": "code",
      "source": [
        "a, d, n = map(int, input().split())\n",
        "e = a + (n-1)*(d)\n",
        "print(e)"
      ],
      "metadata": {
        "colab": {
          "base_uri": "https://localhost:8080/"
        },
        "id": "vnzYygwD73An",
        "outputId": "9eb0df65-9d36-48b0-b599-6165160bd52f"
      },
      "execution_count": 237,
      "outputs": [
        {
          "output_type": "stream",
          "name": "stdout",
          "text": [
            "1 3 5\n",
            "13\n"
          ]
        }
      ]
    },
    {
      "cell_type": "code",
      "source": [
        "a, r, n = map(int, input().split())\n",
        "e = a*r**(n-1)\n",
        "print(e)"
      ],
      "metadata": {
        "colab": {
          "base_uri": "https://localhost:8080/"
        },
        "id": "O2J_T-Kt8IkN",
        "outputId": "5e57b55c-90c6-4732-9249-724f91e650f9"
      },
      "execution_count": 239,
      "outputs": [
        {
          "output_type": "stream",
          "name": "stdout",
          "text": [
            "2 3 7\n",
            "1458\n"
          ]
        }
      ]
    },
    {
      "cell_type": "code",
      "source": [
        "a, m, d, n = map(int, input().split())\n",
        "for i in range(n-1):\n",
        "    a = a*m +d\n",
        "print(a)"
      ],
      "metadata": {
        "colab": {
          "base_uri": "https://localhost:8080/"
        },
        "id": "SpyugUPa8l_H",
        "outputId": "12fa3d14-6966-42db-f698-6594bad3a215"
      },
      "execution_count": 243,
      "outputs": [
        {
          "output_type": "stream",
          "name": "stdout",
          "text": [
            "1 -2 1 8\n",
            "-85\n"
          ]
        }
      ]
    },
    {
      "cell_type": "code",
      "source": [
        "a, b, c = map(int, input().split())\n",
        "d=1 \n",
        "while d%a!=0 or d%b!=0 or d%c!=0:\n",
        "    d += 1\n",
        "print(d)"
      ],
      "metadata": {
        "colab": {
          "base_uri": "https://localhost:8080/"
        },
        "id": "i1rmXafz9hNR",
        "outputId": "3a2d097f-cdef-44ea-b1b6-0faf102f55e7"
      },
      "execution_count": 244,
      "outputs": [
        {
          "output_type": "stream",
          "name": "stdout",
          "text": [
            "3 7 9\n",
            "63\n"
          ]
        }
      ]
    },
    {
      "cell_type": "code",
      "source": [
        "n = int(input())\n",
        "a = list(map(int, input().split()))\n",
        "for i in range(n-1, -1, -1):\n",
        "    print(a[i], end = ' ')"
      ],
      "metadata": {
        "colab": {
          "base_uri": "https://localhost:8080/"
        },
        "id": "V9-Yednq-yZc",
        "outputId": "6ded1cfb-9a06-45ca-ac50-5a2bc1d85cbe"
      },
      "execution_count": 247,
      "outputs": [
        {
          "output_type": "stream",
          "name": "stdout",
          "text": [
            "10\n",
            "10 4 2 3 6 6 7 9 9 5\n",
            "5 9 9 7 6 6 3 2 4 10 "
          ]
        }
      ]
    },
    {
      "cell_type": "code",
      "source": [
        "n = int(input())\n",
        "print(min(map(int,input().split())))"
      ],
      "metadata": {
        "colab": {
          "base_uri": "https://localhost:8080/"
        },
        "id": "HjnTzSlF_fcQ",
        "outputId": "95097c84-6760-4c29-e732-fd457a0a6a02"
      },
      "execution_count": 249,
      "outputs": [
        {
          "output_type": "stream",
          "name": "stdout",
          "text": [
            "10\n",
            "10 4 2 5\n",
            "2\n"
          ]
        }
      ]
    },
    {
      "cell_type": "code",
      "source": [
        "d = [[0 for j in range(20)] for i in range(20)]\n",
        "n = int(input())\n",
        "for i in range(n):    \n",
        "   x,y = map(int,input().split())    \n",
        "   d[x][y] = 1\n",
        "\n",
        "for i in range(1,20):    \n",
        "   for j in range(1,20):        \n",
        "      print(d[i][j], end=' ')   \n",
        "   print()"
      ],
      "metadata": {
        "colab": {
          "base_uri": "https://localhost:8080/"
        },
        "id": "ctZhRQBmAV-O",
        "outputId": "3efbb220-0012-4b7c-c1bc-5b70669e42d5"
      },
      "execution_count": 251,
      "outputs": [
        {
          "output_type": "stream",
          "name": "stdout",
          "text": [
            "5\n",
            "1 1\n",
            "2 2\n",
            "3 3\n",
            "4 4\n",
            "5 5\n",
            "1 0 0 0 0 0 0 0 0 0 0 0 0 0 0 0 0 0 0 \n",
            "0 1 0 0 0 0 0 0 0 0 0 0 0 0 0 0 0 0 0 \n",
            "0 0 1 0 0 0 0 0 0 0 0 0 0 0 0 0 0 0 0 \n",
            "0 0 0 1 0 0 0 0 0 0 0 0 0 0 0 0 0 0 0 \n",
            "0 0 0 0 1 0 0 0 0 0 0 0 0 0 0 0 0 0 0 \n",
            "0 0 0 0 0 0 0 0 0 0 0 0 0 0 0 0 0 0 0 \n",
            "0 0 0 0 0 0 0 0 0 0 0 0 0 0 0 0 0 0 0 \n",
            "0 0 0 0 0 0 0 0 0 0 0 0 0 0 0 0 0 0 0 \n",
            "0 0 0 0 0 0 0 0 0 0 0 0 0 0 0 0 0 0 0 \n",
            "0 0 0 0 0 0 0 0 0 0 0 0 0 0 0 0 0 0 0 \n",
            "0 0 0 0 0 0 0 0 0 0 0 0 0 0 0 0 0 0 0 \n",
            "0 0 0 0 0 0 0 0 0 0 0 0 0 0 0 0 0 0 0 \n",
            "0 0 0 0 0 0 0 0 0 0 0 0 0 0 0 0 0 0 0 \n",
            "0 0 0 0 0 0 0 0 0 0 0 0 0 0 0 0 0 0 0 \n",
            "0 0 0 0 0 0 0 0 0 0 0 0 0 0 0 0 0 0 0 \n",
            "0 0 0 0 0 0 0 0 0 0 0 0 0 0 0 0 0 0 0 \n",
            "0 0 0 0 0 0 0 0 0 0 0 0 0 0 0 0 0 0 0 \n",
            "0 0 0 0 0 0 0 0 0 0 0 0 0 0 0 0 0 0 0 \n",
            "0 0 0 0 0 0 0 0 0 0 0 0 0 0 0 0 0 0 0 \n"
          ]
        }
      ]
    },
    {
      "cell_type": "code",
      "source": [
        "d=[]\n",
        "for i in range(20) :\n",
        "  d.append([])\n",
        "  for j in range(20) : \n",
        "    d[i].append(0)\n",
        "\n",
        "for i in range(19) :\n",
        "  a = input().split()\n",
        "  for j in range(19) :\n",
        "    d[i+1][j+1] = int(a[j])\n",
        "\n",
        "n = int(input())\n",
        "for i in range(n) :\n",
        "  x,y=input().split()\n",
        "  x=int(x)\n",
        "  y=int(y)\n",
        "  for j in range(1, 20) :\n",
        "    if d[j][y]==0 :\n",
        "      d[j][y]=1\n",
        "    else :\n",
        "      d[j][y]=0\n",
        "\n",
        "    if d[x][j]==0 :\n",
        "      d[x][j]=1\n",
        "    else :\n",
        "      d[x][j]=0\n",
        "\n",
        "for i in range(1, 20) :\n",
        "  for j in range(1, 20) :\n",
        "    print(d[i][j], end=' ')\n",
        "  print()"
      ],
      "metadata": {
        "id": "VdCCgUNFBBI5"
      },
      "execution_count": null,
      "outputs": []
    },
    {
      "cell_type": "code",
      "source": [
        "h,w = input().split()\n",
        "h = int(h)\n",
        "w = int(w)\n",
        "\n",
        "m = []\n",
        "for i in range(h+1) :\n",
        "  m.append([])\n",
        "  for j in range(w+1) :\n",
        "    m[i].append(0)\n",
        "\n",
        "n = int(input())\n",
        "for i in range(n) :\n",
        "  l,d,x,y = input().split()\n",
        "  if int(d)==0 :\n",
        "    for j in range(int(l)) :\n",
        "      m[int(x)][int(y)+j] = 1\n",
        "  else :\n",
        "    for j in range(int(l)) :\n",
        "      m[int(x)+j][int(y)] = 1\n",
        "\n",
        "for i in range(1, h+1) :\n",
        "  for j in range(1, w+1) :\n",
        "    print(m[i][j], end=' ')\n",
        "  print()"
      ],
      "metadata": {
        "id": "9Dl7z4M4BetE"
      },
      "execution_count": null,
      "outputs": []
    },
    {
      "cell_type": "code",
      "source": [
        "m=[]\n",
        "for i in range(12) :\n",
        "    m.append([])\n",
        "    for j in range(12) :\n",
        "        m[i].append(0)\n",
        "\n",
        "for i in range(10) :\n",
        "    a=input().split()\n",
        "    for j in range(10) :\n",
        "        m[i+1][j+1]=int(a[j])\n",
        "\n",
        "x=2\n",
        "y=2\n",
        "while True :\n",
        "    if m[x][y]==0 :\n",
        "        m[x][y]=9\n",
        "    elif m[x][y]==2 :\n",
        "        m[x][y]=9\n",
        "        break\n",
        "\n",
        "    if (m[x][y+1]==1 and m[x+1][y]==1) or (x==9 and y==9) :\n",
        "        break\n",
        "\n",
        "    if m[x][y+1]!=1 :\n",
        "        y+=1\n",
        "    elif m[x+1][y]!=1 :\n",
        "        x+=1\n",
        "    \n",
        "\n",
        "for i in range(1, 11) :\n",
        "    for j in range(1, 11) :\n",
        "        print(m[i][j], end=' ')\n",
        "    print()"
      ],
      "metadata": {
        "id": "l_bRTMz8BrBi"
      },
      "execution_count": null,
      "outputs": []
    }
  ]
}